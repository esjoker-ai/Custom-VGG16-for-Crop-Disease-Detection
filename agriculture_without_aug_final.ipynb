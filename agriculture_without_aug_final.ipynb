{
  "metadata": {
    "kernelspec": {
      "display_name": "Python 3",
      "name": "python3"
    },
    "language_info": {
      "name": "python",
      "version": "3.10.14",
      "mimetype": "text/x-python",
      "codemirror_mode": {
        "name": "ipython",
        "version": 3
      },
      "pygments_lexer": "ipython3",
      "nbconvert_exporter": "python",
      "file_extension": ".py"
    },
    "kaggle": {
      "accelerator": "nvidiaTeslaT4",
      "dataSources": [
        {
          "sourceId": 1512654,
          "sourceType": "datasetVersion",
          "datasetId": 891340
        }
      ],
      "dockerImageVersionId": 30761,
      "isInternetEnabled": false,
      "language": "python",
      "sourceType": "notebook",
      "isGpuEnabled": true
    },
    "colab": {
      "provenance": [],
      "gpuType": "T4"
    },
    "accelerator": "GPU"
  },
  "nbformat_minor": 0,
  "nbformat": 4,
  "cells": [
    {
      "cell_type": "code",
      "source": [
        "import os\n",
        "import numpy as np\n",
        "import tensorflow as tf\n",
        "from tensorflow.keras import layers, models\n",
        "from sklearn.model_selection import train_test_split\n",
        "from sklearn.metrics import classification_report, confusion_matrix\n",
        "from sklearn.preprocessing import LabelBinarizer\n",
        "import matplotlib.pyplot as plt\n",
        "import cv2\n",
        "import shutil\n",
        "from tensorflow.keras.applications import VGG16\n",
        "from tensorflow.keras.applications.vgg16 import preprocess_input"
      ],
      "metadata": {
        "_uuid": "8f2839f25d086af736a60e9eeb907d3b93b6e0e5",
        "_cell_guid": "b1076dfc-b9ad-4769-8c92-a6c4dae69d19",
        "execution": {
          "iopub.status.busy": "2024-09-25T06:44:26.877601Z",
          "iopub.execute_input": "2024-09-25T06:44:26.877935Z",
          "iopub.status.idle": "2024-09-25T06:44:40.105989Z",
          "shell.execute_reply.started": "2024-09-25T06:44:26.877901Z",
          "shell.execute_reply": "2024-09-25T06:44:40.105011Z"
        },
        "trusted": true,
        "id": "w7TTwCIk3uV9"
      },
      "outputs": [],
      "execution_count": null
    },
    {
      "cell_type": "code",
      "source": [
        "# Define parameters\n",
        "img_width, img_height = 224, 224\n",
        "batch_size = 32"
      ],
      "metadata": {
        "execution": {
          "iopub.status.busy": "2024-09-25T06:44:40.107868Z",
          "iopub.execute_input": "2024-09-25T06:44:40.108896Z",
          "iopub.status.idle": "2024-09-25T06:44:40.113517Z",
          "shell.execute_reply.started": "2024-09-25T06:44:40.108851Z",
          "shell.execute_reply": "2024-09-25T06:44:40.112547Z"
        },
        "trusted": true,
        "id": "jEqTdaVO3uWA"
      },
      "outputs": [],
      "execution_count": null
    },
    {
      "cell_type": "code",
      "source": [
        "# Function to load images into arrays\n",
        "def load_images_and_labels(directory, img_size=(224, 224)):\n",
        "    images = []\n",
        "    labels = []\n",
        "    for subdir in os.listdir(directory):\n",
        "        subdir_path = os.path.join(directory, subdir)\n",
        "        if os.path.isdir(subdir_path):\n",
        "            for file in os.listdir(subdir_path):\n",
        "                file_path = os.path.join(subdir_path, file)\n",
        "                if os.path.isfile(file_path):\n",
        "                    try:\n",
        "                        img = cv2.imread(file_path)\n",
        "                        img = cv2.resize(img, img_size)\n",
        "                        images.append(img)\n",
        "                        labels.append(subdir)\n",
        "                    except Exception as e:\n",
        "                        print(f\"Error loading image: {file_path}, Error: {e}\")\n",
        "    return np.array(images), np.array(labels)"
      ],
      "metadata": {
        "execution": {
          "iopub.status.busy": "2024-09-25T06:44:40.114703Z",
          "iopub.execute_input": "2024-09-25T06:44:40.115102Z",
          "iopub.status.idle": "2024-09-25T06:44:40.15954Z",
          "shell.execute_reply.started": "2024-09-25T06:44:40.115061Z",
          "shell.execute_reply": "2024-09-25T06:44:40.158568Z"
        },
        "trusted": true,
        "id": "wUq5MUdR3uWA"
      },
      "outputs": [],
      "execution_count": null
    },
    {
      "cell_type": "code",
      "source": [
        "# Load the dataset\n",
        "from google.colab import drive\n",
        "drive.mount(\"/content/drive\")\n",
        "dataset_path = \"/content/drive/My Drive/combined_dataset\"\n",
        "X, y = load_images_and_labels(dataset_path, img_size=(img_width, img_height))"
      ],
      "metadata": {
        "execution": {
          "iopub.status.busy": "2024-09-25T06:44:58.995294Z",
          "iopub.execute_input": "2024-09-25T06:44:58.996019Z",
          "iopub.status.idle": "2024-09-25T06:45:06.869132Z",
          "shell.execute_reply.started": "2024-09-25T06:44:58.995978Z",
          "shell.execute_reply": "2024-09-25T06:45:06.868303Z"
        },
        "trusted": true,
        "colab": {
          "base_uri": "https://localhost:8080/"
        },
        "id": "nlgcbmnZ3uWC",
        "outputId": "5ef36dee-c76f-47a4-c369-f6953e6ecc98"
      },
      "outputs": [
        {
          "output_type": "stream",
          "name": "stdout",
          "text": [
            "Mounted at /content/drive\n"
          ]
        }
      ],
      "execution_count": null
    },
    {
      "cell_type": "code",
      "source": [
        "# Encode labels using one-hot encoding\n",
        "lb = LabelBinarizer()\n",
        "y_encoded = lb.fit_transform(y)"
      ],
      "metadata": {
        "execution": {
          "iopub.status.busy": "2024-09-25T06:45:06.870942Z",
          "iopub.execute_input": "2024-09-25T06:45:06.871298Z",
          "iopub.status.idle": "2024-09-25T06:45:06.883123Z",
          "shell.execute_reply.started": "2024-09-25T06:45:06.87126Z",
          "shell.execute_reply": "2024-09-25T06:45:06.882216Z"
        },
        "trusted": true,
        "id": "Bl3oiMS13uWC"
      },
      "outputs": [],
      "execution_count": null
    },
    {
      "cell_type": "code",
      "source": [
        "# Split the data into training and testing sets\n",
        "X_train, X_test, y_train, y_test = train_test_split(X, y_encoded, test_size=0.3, random_state=42)"
      ],
      "metadata": {
        "execution": {
          "iopub.status.busy": "2024-09-25T06:45:06.884158Z",
          "iopub.execute_input": "2024-09-25T06:45:06.884488Z",
          "iopub.status.idle": "2024-09-25T06:45:06.974572Z",
          "shell.execute_reply.started": "2024-09-25T06:45:06.884455Z",
          "shell.execute_reply": "2024-09-25T06:45:06.973431Z"
        },
        "trusted": true,
        "id": "YMtel-qE3uWC"
      },
      "outputs": [],
      "execution_count": null
    },
    {
      "cell_type": "code",
      "source": [
        "# Normalize pixel values (0 to 255) to (0 to 1)\n",
        "X_train = X_train / 255.0\n",
        "X_test = X_test / 255.0"
      ],
      "metadata": {
        "execution": {
          "iopub.status.busy": "2024-09-25T06:45:06.977149Z",
          "iopub.execute_input": "2024-09-25T06:45:06.977667Z",
          "iopub.status.idle": "2024-09-25T06:45:07.852033Z",
          "shell.execute_reply.started": "2024-09-25T06:45:06.977619Z",
          "shell.execute_reply": "2024-09-25T06:45:07.851119Z"
        },
        "trusted": true,
        "id": "AFqLICKT3uWC"
      },
      "outputs": [],
      "execution_count": null
    },
    {
      "cell_type": "code",
      "source": [
        "# Load VGG16 model pre-trained on ImageNet, excluding the top layers\n",
        "base_model = VGG16(weights='imagenet', include_top=False, input_shape=(img_width, img_height, 3))\n",
        "\n",
        "# Freeze the convolutional base\n",
        "base_model.trainable = False"
      ],
      "metadata": {
        "execution": {
          "iopub.status.busy": "2024-09-25T06:45:09.449184Z",
          "iopub.execute_input": "2024-09-25T06:45:09.449575Z",
          "iopub.status.idle": "2024-09-25T06:45:13.433006Z",
          "shell.execute_reply.started": "2024-09-25T06:45:09.449524Z",
          "shell.execute_reply": "2024-09-25T06:45:13.43204Z"
        },
        "trusted": true,
        "colab": {
          "base_uri": "https://localhost:8080/"
        },
        "id": "XnM0ugFX3uWD",
        "outputId": "c53c7156-b379-48fc-a3d8-fd251bc61267"
      },
      "outputs": [
        {
          "output_type": "stream",
          "name": "stdout",
          "text": [
            "Downloading data from https://storage.googleapis.com/tensorflow/keras-applications/vgg16/vgg16_weights_tf_dim_ordering_tf_kernels_notop.h5\n",
            "58889256/58889256 [==============================] - 0s 0us/step\n"
          ]
        }
      ],
      "execution_count": null
    },
    {
      "cell_type": "code",
      "source": [
        "model = models.Sequential()\n",
        "model.add(base_model)\n",
        "model.add(layers.GlobalAveragePooling2D())\n",
        "model.add(layers.Dense(512, activation='relu'))\n",
        "model.add(layers.BatchNormalization())\n",
        "model.add(layers.Dropout(0.5))\n",
        "model.add(layers.Dense(len(lb.classes_), activation='softmax'))"
      ],
      "metadata": {
        "execution": {
          "iopub.status.busy": "2024-09-25T06:45:13.434717Z",
          "iopub.execute_input": "2024-09-25T06:45:13.435019Z",
          "iopub.status.idle": "2024-09-25T06:45:13.449218Z",
          "shell.execute_reply.started": "2024-09-25T06:45:13.434987Z",
          "shell.execute_reply": "2024-09-25T06:45:13.448469Z"
        },
        "trusted": true,
        "id": "gXAl46LO3uWD"
      },
      "outputs": [],
      "execution_count": null
    },
    {
      "cell_type": "code",
      "source": [
        "# Compile the model with adjusted learning rate\n",
        "model.compile(optimizer=tf.keras.optimizers.Adam(learning_rate=0.0001),\n",
        "              loss='categorical_crossentropy',\n",
        "              metrics=['accuracy'])"
      ],
      "metadata": {
        "execution": {
          "iopub.status.busy": "2024-09-25T06:45:15.593353Z",
          "iopub.execute_input": "2024-09-25T06:45:15.594193Z",
          "iopub.status.idle": "2024-09-25T06:45:15.608652Z",
          "shell.execute_reply.started": "2024-09-25T06:45:15.594151Z",
          "shell.execute_reply": "2024-09-25T06:45:15.6077Z"
        },
        "trusted": true,
        "id": "rDFxHzCr3uWD"
      },
      "outputs": [],
      "execution_count": null
    },
    {
      "cell_type": "code",
      "source": [
        "# Train the model using preprocessed data without augmentation\n",
        "history = model.fit(\n",
        "    X_train, y_train,\n",
        "    epochs=50,\n",
        "    batch_size=batch_size,\n",
        "    validation_data=(X_test, y_test)\n",
        ")"
      ],
      "metadata": {
        "execution": {
          "iopub.status.busy": "2024-09-25T06:45:18.120235Z",
          "iopub.execute_input": "2024-09-25T06:45:18.120981Z",
          "iopub.status.idle": "2024-09-25T07:03:15.090566Z",
          "shell.execute_reply.started": "2024-09-25T06:45:18.120938Z",
          "shell.execute_reply": "2024-09-25T07:03:15.089589Z"
        },
        "trusted": true,
        "colab": {
          "base_uri": "https://localhost:8080/"
        },
        "id": "T_yvVhlF3uWE",
        "outputId": "ccc4f905-7565-4fb7-b536-3ccc362d6ee7"
      },
      "outputs": [
        {
          "output_type": "stream",
          "name": "stdout",
          "text": [
            "Epoch 1/100\n",
            "51/51 [==============================] - 45s 862ms/step - loss: 1.0983 - accuracy: 0.5460 - val_loss: 1.2329 - val_accuracy: 0.2261\n",
            "Epoch 2/100\n",
            "51/51 [==============================] - 43s 841ms/step - loss: 0.6043 - accuracy: 0.7453 - val_loss: 1.0473 - val_accuracy: 0.5855\n",
            "Epoch 3/100\n",
            "51/51 [==============================] - 43s 845ms/step - loss: 0.4782 - accuracy: 0.8143 - val_loss: 0.8819 - val_accuracy: 0.6913\n",
            "Epoch 4/100\n",
            "51/51 [==============================] - 42s 835ms/step - loss: 0.4068 - accuracy: 0.8354 - val_loss: 0.7365 - val_accuracy: 0.7623\n",
            "Epoch 5/100\n",
            "51/51 [==============================] - 42s 830ms/step - loss: 0.3719 - accuracy: 0.8528 - val_loss: 0.6023 - val_accuracy: 0.8246\n",
            "Epoch 6/100\n",
            "51/51 [==============================] - 42s 837ms/step - loss: 0.3316 - accuracy: 0.8689 - val_loss: 0.5013 - val_accuracy: 0.8638\n",
            "Epoch 7/100\n",
            "51/51 [==============================] - 43s 842ms/step - loss: 0.3038 - accuracy: 0.8901 - val_loss: 0.3880 - val_accuracy: 0.8797\n",
            "Epoch 8/100\n",
            "51/51 [==============================] - 42s 838ms/step - loss: 0.2770 - accuracy: 0.8932 - val_loss: 0.3198 - val_accuracy: 0.8971\n",
            "Epoch 9/100\n",
            "51/51 [==============================] - 43s 853ms/step - loss: 0.2648 - accuracy: 0.8975 - val_loss: 0.2589 - val_accuracy: 0.9348\n",
            "Epoch 10/100\n",
            "51/51 [==============================] - 43s 845ms/step - loss: 0.2624 - accuracy: 0.9012 - val_loss: 0.2257 - val_accuracy: 0.9232\n",
            "Epoch 11/100\n",
            "51/51 [==============================] - 42s 837ms/step - loss: 0.2484 - accuracy: 0.9099 - val_loss: 0.2074 - val_accuracy: 0.9362\n",
            "Epoch 12/100\n",
            "51/51 [==============================] - 43s 843ms/step - loss: 0.2336 - accuracy: 0.9143 - val_loss: 0.1812 - val_accuracy: 0.9377\n",
            "Epoch 13/100\n",
            "51/51 [==============================] - 42s 836ms/step - loss: 0.2174 - accuracy: 0.9124 - val_loss: 0.1731 - val_accuracy: 0.9449\n",
            "Epoch 14/100\n",
            "51/51 [==============================] - 43s 840ms/step - loss: 0.2353 - accuracy: 0.9149 - val_loss: 0.1780 - val_accuracy: 0.9449\n",
            "Epoch 15/100\n",
            "51/51 [==============================] - 43s 856ms/step - loss: 0.2146 - accuracy: 0.9112 - val_loss: 0.1662 - val_accuracy: 0.9478\n",
            "Epoch 16/100\n",
            "51/51 [==============================] - 43s 855ms/step - loss: 0.1931 - accuracy: 0.9186 - val_loss: 0.1599 - val_accuracy: 0.9493\n",
            "Epoch 17/100\n",
            "51/51 [==============================] - 43s 844ms/step - loss: 0.1863 - accuracy: 0.9335 - val_loss: 0.1817 - val_accuracy: 0.9333\n",
            "Epoch 18/100\n",
            "51/51 [==============================] - 43s 842ms/step - loss: 0.1868 - accuracy: 0.9329 - val_loss: 0.1549 - val_accuracy: 0.9507\n",
            "Epoch 19/100\n",
            "51/51 [==============================] - 43s 840ms/step - loss: 0.1808 - accuracy: 0.9292 - val_loss: 0.1566 - val_accuracy: 0.9551\n",
            "Epoch 20/100\n",
            "51/51 [==============================] - 43s 843ms/step - loss: 0.1724 - accuracy: 0.9385 - val_loss: 0.1553 - val_accuracy: 0.9449\n",
            "Epoch 21/100\n",
            "51/51 [==============================] - 43s 842ms/step - loss: 0.1750 - accuracy: 0.9348 - val_loss: 0.1515 - val_accuracy: 0.9493\n",
            "Epoch 22/100\n",
            "51/51 [==============================] - 43s 842ms/step - loss: 0.1520 - accuracy: 0.9497 - val_loss: 0.1507 - val_accuracy: 0.9478\n",
            "Epoch 23/100\n",
            "51/51 [==============================] - 43s 842ms/step - loss: 0.1582 - accuracy: 0.9410 - val_loss: 0.1471 - val_accuracy: 0.9522\n",
            "Epoch 24/100\n",
            "51/51 [==============================] - 43s 841ms/step - loss: 0.1454 - accuracy: 0.9491 - val_loss: 0.1445 - val_accuracy: 0.9536\n",
            "Epoch 25/100\n",
            "51/51 [==============================] - 43s 838ms/step - loss: 0.1343 - accuracy: 0.9516 - val_loss: 0.1405 - val_accuracy: 0.9493\n",
            "Epoch 26/100\n",
            "51/51 [==============================] - 42s 834ms/step - loss: 0.1544 - accuracy: 0.9391 - val_loss: 0.1441 - val_accuracy: 0.9536\n",
            "Epoch 27/100\n",
            "51/51 [==============================] - 43s 844ms/step - loss: 0.1479 - accuracy: 0.9466 - val_loss: 0.1389 - val_accuracy: 0.9522\n",
            "Epoch 28/100\n",
            "51/51 [==============================] - 43s 843ms/step - loss: 0.1708 - accuracy: 0.9379 - val_loss: 0.1378 - val_accuracy: 0.9536\n",
            "Epoch 29/100\n",
            "51/51 [==============================] - 43s 839ms/step - loss: 0.1411 - accuracy: 0.9484 - val_loss: 0.1460 - val_accuracy: 0.9464\n",
            "Epoch 30/100\n",
            "51/51 [==============================] - 42s 830ms/step - loss: 0.1324 - accuracy: 0.9540 - val_loss: 0.1341 - val_accuracy: 0.9551\n",
            "Epoch 31/100\n",
            "51/51 [==============================] - 42s 838ms/step - loss: 0.1325 - accuracy: 0.9528 - val_loss: 0.1420 - val_accuracy: 0.9478\n",
            "Epoch 32/100\n",
            "51/51 [==============================] - 42s 838ms/step - loss: 0.1300 - accuracy: 0.9547 - val_loss: 0.1439 - val_accuracy: 0.9464\n",
            "Epoch 33/100\n",
            "51/51 [==============================] - 42s 834ms/step - loss: 0.1258 - accuracy: 0.9547 - val_loss: 0.1449 - val_accuracy: 0.9536\n",
            "Epoch 34/100\n",
            "51/51 [==============================] - 42s 835ms/step - loss: 0.1190 - accuracy: 0.9590 - val_loss: 0.1463 - val_accuracy: 0.9478\n",
            "Epoch 35/100\n",
            "51/51 [==============================] - 42s 837ms/step - loss: 0.1104 - accuracy: 0.9615 - val_loss: 0.1355 - val_accuracy: 0.9565\n",
            "Epoch 36/100\n",
            "51/51 [==============================] - 42s 837ms/step - loss: 0.1144 - accuracy: 0.9602 - val_loss: 0.1474 - val_accuracy: 0.9435\n",
            "Epoch 37/100\n",
            "51/51 [==============================] - 43s 841ms/step - loss: 0.1304 - accuracy: 0.9528 - val_loss: 0.1513 - val_accuracy: 0.9464\n",
            "Epoch 38/100\n",
            "51/51 [==============================] - 42s 836ms/step - loss: 0.1174 - accuracy: 0.9640 - val_loss: 0.1463 - val_accuracy: 0.9507\n",
            "Epoch 39/100\n",
            "51/51 [==============================] - 43s 853ms/step - loss: 0.1238 - accuracy: 0.9571 - val_loss: 0.1351 - val_accuracy: 0.9594\n",
            "Epoch 40/100\n",
            "51/51 [==============================] - 43s 848ms/step - loss: 0.1080 - accuracy: 0.9665 - val_loss: 0.1365 - val_accuracy: 0.9522\n",
            "Epoch 41/100\n",
            "51/51 [==============================] - 43s 855ms/step - loss: 0.0995 - accuracy: 0.9702 - val_loss: 0.1339 - val_accuracy: 0.9594\n",
            "Epoch 42/100\n",
            "51/51 [==============================] - 44s 860ms/step - loss: 0.0972 - accuracy: 0.9596 - val_loss: 0.1371 - val_accuracy: 0.9522\n",
            "Epoch 43/100\n",
            "51/51 [==============================] - 43s 851ms/step - loss: 0.0954 - accuracy: 0.9683 - val_loss: 0.1334 - val_accuracy: 0.9580\n",
            "Epoch 44/100\n",
            "51/51 [==============================] - 43s 845ms/step - loss: 0.0959 - accuracy: 0.9683 - val_loss: 0.1495 - val_accuracy: 0.9464\n",
            "Epoch 45/100\n",
            "51/51 [==============================] - 43s 850ms/step - loss: 0.0889 - accuracy: 0.9658 - val_loss: 0.1296 - val_accuracy: 0.9565\n",
            "Epoch 46/100\n",
            "51/51 [==============================] - 43s 843ms/step - loss: 0.0917 - accuracy: 0.9677 - val_loss: 0.1438 - val_accuracy: 0.9565\n",
            "Epoch 47/100\n",
            "51/51 [==============================] - 43s 854ms/step - loss: 0.1087 - accuracy: 0.9671 - val_loss: 0.1475 - val_accuracy: 0.9464\n",
            "Epoch 48/100\n",
            "51/51 [==============================] - 43s 857ms/step - loss: 0.0868 - accuracy: 0.9714 - val_loss: 0.1397 - val_accuracy: 0.9565\n",
            "Epoch 49/100\n",
            "51/51 [==============================] - 43s 853ms/step - loss: 0.0980 - accuracy: 0.9621 - val_loss: 0.1349 - val_accuracy: 0.9594\n",
            "Epoch 50/100\n",
            "51/51 [==============================] - 44s 857ms/step - loss: 0.0873 - accuracy: 0.9733 - val_loss: 0.1371 - val_accuracy: 0.9580\n",
            "Epoch 51/100\n",
            "51/51 [==============================] - 43s 854ms/step - loss: 0.0740 - accuracy: 0.9807 - val_loss: 0.1488 - val_accuracy: 0.9522\n",
            "Epoch 52/100\n",
            "51/51 [==============================] - 44s 865ms/step - loss: 0.0953 - accuracy: 0.9652 - val_loss: 0.1572 - val_accuracy: 0.9522\n",
            "Epoch 53/100\n",
            "51/51 [==============================] - 43s 852ms/step - loss: 0.0858 - accuracy: 0.9689 - val_loss: 0.1396 - val_accuracy: 0.9580\n",
            "Epoch 54/100\n",
            "51/51 [==============================] - 43s 848ms/step - loss: 0.0872 - accuracy: 0.9733 - val_loss: 0.1437 - val_accuracy: 0.9522\n",
            "Epoch 55/100\n",
            "51/51 [==============================] - 43s 841ms/step - loss: 0.0731 - accuracy: 0.9832 - val_loss: 0.1322 - val_accuracy: 0.9536\n",
            "Epoch 56/100\n",
            "51/51 [==============================] - 43s 840ms/step - loss: 0.0821 - accuracy: 0.9745 - val_loss: 0.1370 - val_accuracy: 0.9565\n",
            "Epoch 57/100\n",
            "51/51 [==============================] - 43s 852ms/step - loss: 0.0766 - accuracy: 0.9776 - val_loss: 0.1402 - val_accuracy: 0.9493\n",
            "Epoch 58/100\n",
            "51/51 [==============================] - 43s 847ms/step - loss: 0.0749 - accuracy: 0.9702 - val_loss: 0.1363 - val_accuracy: 0.9565\n",
            "Epoch 59/100\n",
            "51/51 [==============================] - 43s 845ms/step - loss: 0.0721 - accuracy: 0.9752 - val_loss: 0.1340 - val_accuracy: 0.9536\n",
            "Epoch 60/100\n",
            "51/51 [==============================] - 43s 848ms/step - loss: 0.0743 - accuracy: 0.9795 - val_loss: 0.1460 - val_accuracy: 0.9536\n",
            "Epoch 61/100\n",
            "51/51 [==============================] - 43s 855ms/step - loss: 0.0688 - accuracy: 0.9745 - val_loss: 0.1353 - val_accuracy: 0.9565\n",
            "Epoch 62/100\n",
            "51/51 [==============================] - 44s 862ms/step - loss: 0.0666 - accuracy: 0.9758 - val_loss: 0.1440 - val_accuracy: 0.9536\n",
            "Epoch 63/100\n",
            "51/51 [==============================] - 44s 863ms/step - loss: 0.0694 - accuracy: 0.9795 - val_loss: 0.1355 - val_accuracy: 0.9551\n",
            "Epoch 64/100\n",
            "51/51 [==============================] - 43s 849ms/step - loss: 0.0735 - accuracy: 0.9745 - val_loss: 0.1341 - val_accuracy: 0.9536\n",
            "Epoch 65/100\n",
            "51/51 [==============================] - 43s 857ms/step - loss: 0.0530 - accuracy: 0.9839 - val_loss: 0.1371 - val_accuracy: 0.9551\n",
            "Epoch 66/100\n",
            "51/51 [==============================] - 43s 844ms/step - loss: 0.0757 - accuracy: 0.9739 - val_loss: 0.1344 - val_accuracy: 0.9551\n",
            "Epoch 67/100\n",
            "51/51 [==============================] - 43s 843ms/step - loss: 0.0547 - accuracy: 0.9857 - val_loss: 0.1321 - val_accuracy: 0.9580\n",
            "Epoch 68/100\n",
            "51/51 [==============================] - 43s 846ms/step - loss: 0.0586 - accuracy: 0.9832 - val_loss: 0.1423 - val_accuracy: 0.9536\n",
            "Epoch 69/100\n",
            "51/51 [==============================] - 43s 847ms/step - loss: 0.0607 - accuracy: 0.9807 - val_loss: 0.1419 - val_accuracy: 0.9522\n",
            "Epoch 70/100\n",
            "51/51 [==============================] - 43s 858ms/step - loss: 0.0502 - accuracy: 0.9851 - val_loss: 0.1316 - val_accuracy: 0.9565\n",
            "Epoch 71/100\n",
            "51/51 [==============================] - 43s 848ms/step - loss: 0.0652 - accuracy: 0.9764 - val_loss: 0.1356 - val_accuracy: 0.9580\n",
            "Epoch 72/100\n",
            "51/51 [==============================] - 43s 844ms/step - loss: 0.0713 - accuracy: 0.9764 - val_loss: 0.1481 - val_accuracy: 0.9565\n",
            "Epoch 73/100\n",
            "51/51 [==============================] - 43s 847ms/step - loss: 0.0546 - accuracy: 0.9820 - val_loss: 0.1378 - val_accuracy: 0.9522\n",
            "Epoch 74/100\n",
            "51/51 [==============================] - 43s 849ms/step - loss: 0.0646 - accuracy: 0.9758 - val_loss: 0.1388 - val_accuracy: 0.9507\n",
            "Epoch 75/100\n",
            "51/51 [==============================] - 43s 849ms/step - loss: 0.0619 - accuracy: 0.9795 - val_loss: 0.1387 - val_accuracy: 0.9594\n",
            "Epoch 76/100\n",
            "51/51 [==============================] - 44s 862ms/step - loss: 0.0600 - accuracy: 0.9783 - val_loss: 0.1581 - val_accuracy: 0.9493\n",
            "Epoch 77/100\n",
            "51/51 [==============================] - 43s 850ms/step - loss: 0.0585 - accuracy: 0.9801 - val_loss: 0.1470 - val_accuracy: 0.9507\n",
            "Epoch 78/100\n",
            "51/51 [==============================] - 43s 846ms/step - loss: 0.0519 - accuracy: 0.9845 - val_loss: 0.1372 - val_accuracy: 0.9580\n",
            "Epoch 79/100\n",
            "51/51 [==============================] - 43s 851ms/step - loss: 0.0502 - accuracy: 0.9851 - val_loss: 0.1432 - val_accuracy: 0.9507\n",
            "Epoch 80/100\n",
            "51/51 [==============================] - 43s 847ms/step - loss: 0.0679 - accuracy: 0.9733 - val_loss: 0.1369 - val_accuracy: 0.9536\n",
            "Epoch 81/100\n",
            "51/51 [==============================] - 43s 840ms/step - loss: 0.0577 - accuracy: 0.9832 - val_loss: 0.1417 - val_accuracy: 0.9536\n",
            "Epoch 82/100\n",
            "51/51 [==============================] - 43s 840ms/step - loss: 0.0590 - accuracy: 0.9783 - val_loss: 0.1617 - val_accuracy: 0.9493\n",
            "Epoch 83/100\n",
            "51/51 [==============================] - 43s 840ms/step - loss: 0.0522 - accuracy: 0.9839 - val_loss: 0.1454 - val_accuracy: 0.9565\n",
            "Epoch 84/100\n",
            "51/51 [==============================] - 43s 849ms/step - loss: 0.0364 - accuracy: 0.9919 - val_loss: 0.1502 - val_accuracy: 0.9551\n",
            "Epoch 85/100\n",
            "51/51 [==============================] - 43s 848ms/step - loss: 0.0605 - accuracy: 0.9739 - val_loss: 0.1489 - val_accuracy: 0.9565\n",
            "Epoch 86/100\n",
            "51/51 [==============================] - 43s 845ms/step - loss: 0.0560 - accuracy: 0.9795 - val_loss: 0.1601 - val_accuracy: 0.9478\n",
            "Epoch 87/100\n",
            "51/51 [==============================] - 43s 846ms/step - loss: 0.0514 - accuracy: 0.9857 - val_loss: 0.1423 - val_accuracy: 0.9536\n",
            "Epoch 88/100\n",
            "51/51 [==============================] - 43s 852ms/step - loss: 0.0601 - accuracy: 0.9814 - val_loss: 0.1463 - val_accuracy: 0.9507\n",
            "Epoch 89/100\n",
            "51/51 [==============================] - 43s 847ms/step - loss: 0.0464 - accuracy: 0.9839 - val_loss: 0.1468 - val_accuracy: 0.9551\n",
            "Epoch 90/100\n",
            "51/51 [==============================] - 44s 864ms/step - loss: 0.0419 - accuracy: 0.9870 - val_loss: 0.1520 - val_accuracy: 0.9522\n",
            "Epoch 91/100\n",
            "51/51 [==============================] - 43s 843ms/step - loss: 0.0384 - accuracy: 0.9907 - val_loss: 0.1579 - val_accuracy: 0.9493\n",
            "Epoch 92/100\n",
            "51/51 [==============================] - 43s 842ms/step - loss: 0.0423 - accuracy: 0.9870 - val_loss: 0.1365 - val_accuracy: 0.9565\n",
            "Epoch 93/100\n",
            "51/51 [==============================] - 42s 836ms/step - loss: 0.0476 - accuracy: 0.9870 - val_loss: 0.1459 - val_accuracy: 0.9580\n",
            "Epoch 94/100\n",
            "51/51 [==============================] - 42s 837ms/step - loss: 0.0489 - accuracy: 0.9845 - val_loss: 0.1513 - val_accuracy: 0.9536\n",
            "Epoch 95/100\n",
            "51/51 [==============================] - 43s 844ms/step - loss: 0.0464 - accuracy: 0.9863 - val_loss: 0.1465 - val_accuracy: 0.9565\n",
            "Epoch 96/100\n",
            "51/51 [==============================] - 43s 848ms/step - loss: 0.0513 - accuracy: 0.9857 - val_loss: 0.1378 - val_accuracy: 0.9594\n",
            "Epoch 97/100\n",
            "51/51 [==============================] - 43s 855ms/step - loss: 0.0489 - accuracy: 0.9832 - val_loss: 0.1433 - val_accuracy: 0.9594\n",
            "Epoch 98/100\n",
            "51/51 [==============================] - 43s 850ms/step - loss: 0.0379 - accuracy: 0.9901 - val_loss: 0.1730 - val_accuracy: 0.9391\n",
            "Epoch 99/100\n",
            "51/51 [==============================] - 43s 849ms/step - loss: 0.0510 - accuracy: 0.9820 - val_loss: 0.1406 - val_accuracy: 0.9565\n",
            "Epoch 100/100\n",
            "51/51 [==============================] - 43s 857ms/step - loss: 0.0429 - accuracy: 0.9882 - val_loss: 0.1464 - val_accuracy: 0.9565\n"
          ]
        }
      ],
      "execution_count": null
    },
    {
      "cell_type": "code",
      "source": [
        "# Evaluate the model on the test set\n",
        "predictions = model.predict(X_test, batch_size=batch_size, verbose=1)\n",
        "predicted_classes = np.argmax(predictions, axis=1)\n",
        "true_classes = np.argmax(y_test[:len(predicted_classes)], axis=1)"
      ],
      "metadata": {
        "execution": {
          "iopub.status.busy": "2024-09-25T07:03:15.092746Z",
          "iopub.execute_input": "2024-09-25T07:03:15.093054Z",
          "iopub.status.idle": "2024-09-25T07:03:20.079869Z",
          "shell.execute_reply.started": "2024-09-25T07:03:15.093021Z",
          "shell.execute_reply": "2024-09-25T07:03:20.079059Z"
        },
        "trusted": true,
        "colab": {
          "base_uri": "https://localhost:8080/"
        },
        "id": "pnKnrv-J3uWE",
        "outputId": "75639c02-240a-438e-8559-c7170dfc7dcb"
      },
      "outputs": [
        {
          "output_type": "stream",
          "name": "stdout",
          "text": [
            "22/22 [==============================] - 14s 609ms/step\n"
          ]
        }
      ],
      "execution_count": null
    },
    {
      "cell_type": "code",
      "source": [
        "conf_matrix = confusion_matrix(true_classes, predicted_classes)\n",
        "print(\"Confusion Matrix:\")\n",
        "print(conf_matrix)\n",
        "\n",
        "class_labels = lb.classes_\n",
        "print(\"\\nClassification Report:\")\n",
        "print(classification_report(true_classes, predicted_classes, target_names=class_labels))"
      ],
      "metadata": {
        "execution": {
          "iopub.status.busy": "2024-09-25T07:03:20.081014Z",
          "iopub.execute_input": "2024-09-25T07:03:20.081322Z",
          "iopub.status.idle": "2024-09-25T07:03:20.098992Z",
          "shell.execute_reply.started": "2024-09-25T07:03:20.081289Z",
          "shell.execute_reply": "2024-09-25T07:03:20.098068Z"
        },
        "trusted": true,
        "colab": {
          "base_uri": "https://localhost:8080/"
        },
        "id": "RriJgimp3uWE",
        "outputId": "ebe2159b-9b26-4759-bb62-717e01866413"
      },
      "outputs": [
        {
          "output_type": "stream",
          "name": "stdout",
          "text": [
            "Confusion Matrix:\n",
            "[[ 92   0   3   0]\n",
            " [  0 270   1  13]\n",
            " [  0   0 164   2]\n",
            " [  0   8   3 134]]\n",
            "\n",
            "Classification Report:\n",
            "                       precision    recall  f1-score   support\n",
            "\n",
            " diseased cotton leaf       1.00      0.97      0.98        95\n",
            "diseased cotton plant       0.97      0.95      0.96       284\n",
            "    fresh cotton leaf       0.96      0.99      0.97       166\n",
            "   fresh cotton plant       0.90      0.92      0.91       145\n",
            "\n",
            "             accuracy                           0.96       690\n",
            "            macro avg       0.96      0.96      0.96       690\n",
            "         weighted avg       0.96      0.96      0.96       690\n",
            "\n"
          ]
        }
      ],
      "execution_count": null
    },
    {
      "cell_type": "code",
      "source": [
        "# Plot training history\n",
        "plt.plot(history.history['accuracy'], label='accuracy')\n",
        "plt.plot(history.history['loss'], label='loss')\n",
        "plt.xlabel('Epoch')\n",
        "plt.legend()\n",
        "plt.show()"
      ],
      "metadata": {
        "execution": {
          "iopub.status.busy": "2024-09-25T07:03:20.101078Z",
          "iopub.execute_input": "2024-09-25T07:03:20.101362Z",
          "iopub.status.idle": "2024-09-25T07:03:20.375195Z",
          "shell.execute_reply.started": "2024-09-25T07:03:20.101331Z",
          "shell.execute_reply": "2024-09-25T07:03:20.374322Z"
        },
        "trusted": true,
        "colab": {
          "base_uri": "https://localhost:8080/",
          "height": 449
        },
        "id": "B3fg5eXt3uWE",
        "outputId": "49a5a070-c8ca-49c2-f6a7-d25c9faa3037"
      },
      "outputs": [
        {
          "output_type": "display_data",
          "data": {
            "text/plain": [
              "<Figure size 640x480 with 1 Axes>"
            ],
            "image/png": "[encoded data removed]"
          },
          "metadata": {}
        }
      ],
      "execution_count": null
    },
    {
      "cell_type": "code",
      "source": [
        "# ROC AUC\n",
        "from sklearn.metrics import roc_auc_score, roc_curve, auc\n",
        "\n",
        "roc_auc = roc_auc_score(true_classes, predictions, multi_class='ovr')\n",
        "print(\"ROC AUC Score:\", roc_auc)\n",
        "\n",
        "# Plot ROC curve\n",
        "fpr = dict()\n",
        "tpr = dict()\n",
        "roc_auc = dict()\n",
        "for i in range(len(lb.classes_)):\n",
        "    fpr[i], tpr[i], _ = roc_curve(true_classes, predictions[:, i], pos_label=i)\n",
        "    roc_auc[i] = auc(fpr[i], tpr[i])\n",
        "\n",
        "plt.figure(figsize=(10, 6))\n",
        "plt.plot([0, 1], [0, 1], 'k--')\n",
        "for i in range(len(lb.classes_)):\n",
        "    plt.plot(fpr[i], tpr[i], label=f'Class {i} (AUC = {roc_auc[i]:.2f})')\n",
        "plt.xlabel('False Positive Rate')\n",
        "plt.ylabel('True Positive Rate')\n",
        "plt.title('ROC Curve')\n",
        "plt.legend(loc='best')\n",
        "plt.show()"
      ],
      "metadata": {
        "execution": {
          "iopub.status.busy": "2024-09-25T07:03:20.376461Z",
          "iopub.execute_input": "2024-09-25T07:03:20.376854Z",
          "iopub.status.idle": "2024-09-25T07:03:20.714323Z",
          "shell.execute_reply.started": "2024-09-25T07:03:20.37681Z",
          "shell.execute_reply": "2024-09-25T07:03:20.713456Z"
        },
        "trusted": true,
        "colab": {
          "base_uri": "https://localhost:8080/",
          "height": 582
        },
        "id": "LX7R4Hqw3uWE",
        "outputId": "b79e9b49-0b60-4505-9b63-464cb4c92c25"
      },
      "outputs": [
        {
          "output_type": "stream",
          "name": "stdout",
          "text": [
            "ROC AUC Score: 0.9954280664310942\n"
          ]
        },
        {
          "output_type": "display_data",
          "data": {
            "text/plain": [
              "<Figure size 1000x600 with 1 Axes>"
            ],
            "image/png": "[encoded data removed]"
          },
          "metadata": {}
        }
      ],
      "execution_count": null
    },
    {
      "cell_type": "code",
      "source": [
        "# 12min 10epoch"
      ],
      "metadata": {
        "id": "Rm31fv4U3uWF"
      },
      "outputs": [],
      "execution_count": null
    },
    {
      "cell_type": "code",
      "source": [
        "from sklearn.metrics import accuracy_score, precision_score, recall_score, f1_score\n",
        "\n",
        "# Evaluate the model on the test set\n",
        "predictions = model.predict(X_test, batch_size=batch_size, verbose=1)\n",
        "predicted_classes = np.argmax(predictions, axis=1)\n",
        "true_classes = np.argmax(y_test[:len(predicted_classes)], axis=1)\n",
        "\n",
        "# Confusion matrix\n",
        "conf_matrix = confusion_matrix(true_classes, predicted_classes)\n",
        "print(\"Confusion Matrix:\")\n",
        "print(conf_matrix)\n",
        "\n",
        "# Accuracy\n",
        "accuracy = accuracy_score(true_classes, predicted_classes)\n",
        "print(f\"Accuracy: {accuracy * 100:.2f}%\")\n",
        "\n",
        "# Precision\n",
        "precision = precision_score(true_classes, predicted_classes, average='macro')\n",
        "print(f\"Precision: {precision:.2f}\")\n",
        "\n",
        "# Recall\n",
        "recall = recall_score(true_classes, predicted_classes, average='macro')\n",
        "print(f\"Recall: {recall:.2f}\")\n",
        "\n",
        "# F1 Score\n",
        "f1 = f1_score(true_classes, predicted_classes, average='macro')\n",
        "print(f\"F1 Score: {f1:.2f}\")\n",
        "\n",
        "# Classification report with all metrics\n",
        "class_labels = lb.classes_\n",
        "print(\"\\nClassification Report:\")\n",
        "print(classification_report(true_classes, predicted_classes, target_names=class_labels))\n"
      ],
      "metadata": {
        "execution": {
          "iopub.status.busy": "2024-09-25T07:03:20.715367Z",
          "iopub.execute_input": "2024-09-25T07:03:20.715645Z",
          "iopub.status.idle": "2024-09-25T07:03:24.900545Z",
          "shell.execute_reply.started": "2024-09-25T07:03:20.715614Z",
          "shell.execute_reply": "2024-09-25T07:03:24.899472Z"
        },
        "trusted": true,
        "colab": {
          "base_uri": "https://localhost:8080/"
        },
        "id": "s1vdLzbf3uWF",
        "outputId": "c072d273-9874-4d1e-ebcf-1af965fe320f"
      },
      "outputs": [
        {
          "output_type": "stream",
          "name": "stdout",
          "text": [
            "22/22 [==============================] - 13s 600ms/step\n",
            "Confusion Matrix:\n",
            "[[ 92   0   3   0]\n",
            " [  0 270   1  13]\n",
            " [  0   0 164   2]\n",
            " [  0   8   3 134]]\n",
            "Accuracy: 95.65%\n",
            "Precision: 0.96\n",
            "Recall: 0.96\n",
            "F1 Score: 0.96\n",
            "\n",
            "Classification Report:\n",
            "                       precision    recall  f1-score   support\n",
            "\n",
            " diseased cotton leaf       1.00      0.97      0.98        95\n",
            "diseased cotton plant       0.97      0.95      0.96       284\n",
            "    fresh cotton leaf       0.96      0.99      0.97       166\n",
            "   fresh cotton plant       0.90      0.92      0.91       145\n",
            "\n",
            "             accuracy                           0.96       690\n",
            "            macro avg       0.96      0.96      0.96       690\n",
            "         weighted avg       0.96      0.96      0.96       690\n",
            "\n"
          ]
        }
      ],
      "execution_count": null
    }
  ]
}